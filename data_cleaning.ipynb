{
 "cells": [
  {
   "cell_type": "markdown",
   "id": "e2a805ab-6980-4994-ae31-7a7e75260a76",
   "metadata": {},
   "source": [
    "# Initialisation and Dataset reading"
   ]
  },
  {
   "cell_type": "code",
   "execution_count": null,
   "id": "614eb4f6-a768-4c72-8667-ae0f1580aa26",
   "metadata": {},
   "outputs": [
    {
     "name": "stderr",
     "output_type": "stream",
     "text": [
      "Aug 09, 2024 4:41:03 PM org.apache.spark.launcher.Log4jHotPatchOption staticJavaAgentOption\n",
      "WARNING: spark.log4jHotPatch.enabled is set to true, but /usr/share/log4j-cve-2021-44228-hotpatch/jdk17/Log4jHotPatchFat.jar does not exist at the configured location\n",
      "\n",
      "Setting default log level to \"WARN\".\n",
      "To adjust logging level use sc.setLogLevel(newLevel). For SparkR, use setLogLevel(newLevel).\n"
     ]
    }
   ],
   "source": [
    "from pyspark.sql import SparkSession\n",
    "from flask import Flask, request, jsonify\n",
    "from pyspark.sql.types import StructType, StructField, StringType, FloatType, DoubleType, IntegerType, TimestampType, DecimalType\n",
    "from pyspark.sql.functions import to_timestamp\n",
    "from pyspark.sql.functions import to_timestamp, to_date, regexp_replace, col\n",
    "\n",
    "# Initialize SparkSession\n",
    "spark = SparkSession.builder \\\n",
    "    .appName(\"CSVReader\") \\\n",
    "    .getOrCreate()\n",
    "\n",
    "# Initialize Flask app\n",
    "app = Flask(__name__)"
   ]
  },
  {
   "cell_type": "code",
   "execution_count": 5,
   "id": "284cd95f-4ae1-46ee-9bc9-a6201b00b895",
   "metadata": {},
   "outputs": [
    {
     "name": "stdout",
     "output_type": "stream",
     "text": [
      "+---------------------+---------------------------------+--------------+-------+--------+-----+-------+---------+--------+--------------------------+----------+--------------------------------+---------+-----------+--------+\n",
      "|trans_date_trans_time|merchant                         |category      |amt    |city    |state|lat    |long     |city_pop|job                       |dob       |trans_num                       |merch_lat|merch_long |is_fraud|\n",
      "+---------------------+---------------------------------+--------------+-------+--------+-----+-------+---------+--------+--------------------------+----------+--------------------------------+---------+-----------+--------+\n",
      "|04-01-2019 00:58     |\"Stokes, Christiansen and Sipes\" |grocery_net   |14.37  |Wales   |AK   |64.7556|-165.6723|145     |\"Administrator, education\"|09-11-1939|a3806e984cec6ac0096d8184c64ad3a1|65.654142|-164.722603|1       |\n",
      "|04-01-2019 15:06     |Predovic Inc                     |shopping_net  |966.11 |Wales   |AK   |64.7556|-165.6723|145     |\"Administrator, education\"|09-11-1939|a59185fe1b9ccf21323f581d7477573f|65.468863|-165.473127|1       |\n",
      "|04-01-2019 22:37     |Wisozk and Sons                  |misc_pos      |49.61  |Wales   |AK   |64.7556|-165.6723|145     |\"Administrator, education\"|09-11-1939|86ba3a888b42cd3925881fa34177b4e0|65.347667|-165.914542|1       |\n",
      "|04-01-2019 23:06     |Murray-Smitham                   |grocery_pos   |295.26 |Wales   |AK   |64.7556|-165.6723|145     |\"Administrator, education\"|09-11-1939|3a068fe1d856f0ecedbed33e4b5f4496|64.445035|-166.080207|1       |\n",
      "|04-01-2019 23:59     |Friesen Lt                       |health_fitness|18.17  |Wales   |AK   |64.7556|-165.6723|145     |\"Administrator, education\"|09-11-1939|891cdd1191028759dc20dc224347a0ff|65.447094|-165.446843|1       |\n",
      "|05-01-2019 03:15     |\"Raynor, Reinger and Hagenes\"    |gas_transport |20.45  |Wales   |AK   |64.7556|-165.6723|145     |\"Administrator, education\"|09-11-1939|ef010a5f4f570d306a050a368ee2729d|64.088838|-165.104078|1       |\n",
      "|05-01-2019 03:21     |Heller-Langosh                   |gas_transport |18.19  |Wales   |AK   |64.7556|-165.6723|145     |\"Administrator, education\"|09-11-1939|8e2d2fae5319d31c887dddbc70627ac4|63.917785|-165.827621|1       |\n",
      "|05-01-2019 11:31     |Padberg-Welch                    |grocery_pos   |367.29 |Browning|MO   |40.029 |-93.1607 |602     |Cytogeneticist            |14-07-1954|5fbe827807ec9f557f6242bb48db0e51|39.167065|-93.705245 |1       |\n",
      "|05-01-2019 18:03     |McGlynn-Heathcote                |misc_net      |768.15 |Wales   |AK   |64.7556|-165.6723|145     |\"Administrator, education\"|09-11-1939|fba83e0a3adb530251295ab72a96b719|64.623325|-166.403973|1       |\n",
      "|05-01-2019 22:02     |Dooley-Thompson                  |misc_net      |849.49 |Wales   |AK   |64.7556|-165.6723|145     |\"Administrator, education\"|09-11-1939|b87c92d4824758e704da572891697fed|65.266065|-164.865352|1       |\n",
      "|05-01-2019 22:05     |\"Gottlieb, Considine and Schultz\"|shopping_net  |1177.79|Browning|MO   |40.029 |-93.1607 |602     |Cytogeneticist            |14-07-1954|f1c51701d8b5dd6ebfe7c1aebf0c4fe7|39.288305|-92.476947 |1       |\n",
      "|05-01-2019 22:12     |\"Moen, Reinger and Murphy\"       |grocery_pos   |307.09 |Wales   |AK   |64.7556|-165.6723|145     |\"Administrator, education\"|09-11-1939|755e4e8350ec4a3e9309727574c97726|64.909145|-164.712087|1       |\n",
      "|05-01-2019 22:18     |\"Hauck, Dietrich and Funk\"       |kids_pets     |4.58   |Wales   |AK   |64.7556|-165.6723|145     |\"Administrator, education\"|09-11-1939|8fa7880cf01e6adc96e9654d69f3f035|65.052892|-166.067029|1       |\n",
      "|05-01-2019 22:32     |Pouros-Haag                      |shopping_pos  |730.78 |Wales   |AK   |64.7556|-165.6723|145     |\"Administrator, education\"|09-11-1939|2396a5b8e277a4ce1d4fa939d6e7b19b|65.233866|-166.550779|1       |\n",
      "|05-01-2019 22:33     |Goyette Inc                      |shopping_net  |1006.40|Wales   |AK   |64.7556|-165.6723|145     |\"Administrator, education\"|09-11-1939|4d7e567247b6c4529ce4c32c03b2f040|65.220316|-165.005725|1       |\n",
      "|05-01-2019 22:38     |\"Baumbach, Strosin and Nicolas\"  |shopping_pos  |830.72 |Wales   |AK   |64.7556|-165.6723|145     |\"Administrator, education\"|09-11-1939|773a3305db095657e1860a39dda24cf2|65.710538|-165.986117|1       |\n",
      "|05-01-2019 23:17     |Pacocha-O'Reilly                 |grocery_pos   |311.92 |Wales   |AK   |64.7556|-165.6723|145     |\"Administrator, education\"|09-11-1939|191b3dcec7a6a49438be93cfbeaea9c1|64.79501 |-165.670735|1       |\n",
      "|05-01-2019 23:26     |Barrows PLC                      |shopping_pos  |762.93 |Browning|MO   |40.029 |-93.1607 |602     |Cytogeneticist            |14-07-1954|19b126ecf4c79997e9edc6f260c09880|40.205262|-93.499211 |1       |\n",
      "|06-01-2019 18:39     |Fisher-Schowalte                 |shopping_net  |855.88 |Browning|MO   |40.029 |-93.1607 |602     |Cytogeneticist            |14-07-1954|bbae703c3794b7738d08739afbaef898|40.786018|-93.301092 |1       |\n",
      "|06-01-2019 23:33     |Gleason-Macejkovic               |shopping_net  |909.29 |Browning|MO   |40.029 |-93.1607 |602     |Cytogeneticist            |14-07-1954|b98eb7183ee8a48e83539addc80ea9cc|40.977312|-93.55098  |1       |\n",
      "+---------------------+---------------------------------+--------------+-------+--------+-----+-------+---------+--------+--------------------------+----------+--------------------------------+---------+-----------+--------+\n",
      "only showing top 20 rows\n",
      "\n",
      "root\n",
      " |-- trans_date_trans_time: string (nullable = true)\n",
      " |-- merchant: string (nullable = true)\n",
      " |-- category: string (nullable = true)\n",
      " |-- amt: decimal(10,2) (nullable = true)\n",
      " |-- city: string (nullable = true)\n",
      " |-- state: string (nullable = true)\n",
      " |-- lat: double (nullable = true)\n",
      " |-- long: double (nullable = true)\n",
      " |-- city_pop: integer (nullable = true)\n",
      " |-- job: string (nullable = true)\n",
      " |-- dob: string (nullable = true)\n",
      " |-- trans_num: string (nullable = true)\n",
      " |-- merch_lat: double (nullable = true)\n",
      " |-- merch_long: double (nullable = true)\n",
      " |-- is_fraud: integer (nullable = true)\n",
      "\n"
     ]
    }
   ],
   "source": [
    "file_path = 'Dataset/fraud_data.csv'\n",
    "\n",
    "\n",
    "# Define the schema with trans_date_trans_time as StringType initially\n",
    "schema = StructType([\n",
    "    StructField(\"trans_date_trans_time\", StringType(), True),\n",
    "    StructField(\"merchant\", StringType(), True),\n",
    "    StructField(\"category\", StringType(), True),\n",
    "    StructField(\"amt\", DecimalType(10,2), True),\n",
    "    StructField(\"city\", StringType(), True),\n",
    "    StructField(\"state\", StringType(), True),\n",
    "    StructField(\"lat\", DoubleType(), True),\n",
    "    StructField(\"long\", DoubleType(), True),\n",
    "    StructField(\"city_pop\", IntegerType(), True),\n",
    "    StructField(\"job\", StringType(), True),\n",
    "    StructField(\"dob\", StringType(), True),\n",
    "    StructField(\"trans_num\", StringType(), True),\n",
    "    StructField(\"merch_lat\", DoubleType(), True),\n",
    "    StructField(\"merch_long\", DoubleType(), True),\n",
    "    StructField(\"is_fraud\", StringType(), True)\n",
    "])\n",
    "\n",
    "def read_dataset(file_path, spark):\n",
    "    # Read the CSV file into a Spark DataFrame\n",
    "    df = spark.read.option(\"header\", \"true\") \\\n",
    "        .option(\"delimiter\", \",\") \\\n",
    "        .option(\"quote\", \"\\\"\") \\\n",
    "        .option(\"escape\", \"\\\"\") \\\n",
    "        .schema(schema) \\\n",
    "        .csv(file_path)\n",
    "    return df\n",
    "\n",
    "df = read_dataset(file_path, spark)\n",
    "# Show the first few rows of the DataFrame\n",
    "df.show(truncate=False)\n",
    "df.printSchema()"
   ]
  },
  {
   "cell_type": "markdown",
   "id": "ee138356-2021-42eb-b135-f4db8fb26b3f",
   "metadata": {},
   "source": [
    "# Data transformation"
   ]
  },
  {
   "cell_type": "code",
   "execution_count": 8,
   "id": "1cd9cb92-abf5-4e4d-a53a-33196717d0d9",
   "metadata": {},
   "outputs": [
    {
     "name": "stdout",
     "output_type": "stream",
     "text": [
      "root\n",
      " |-- trans_date_trans_time: timestamp (nullable = true)\n",
      " |-- merchant: string (nullable = true)\n",
      " |-- category: string (nullable = true)\n",
      " |-- amt: decimal(10,2) (nullable = true)\n",
      " |-- city: string (nullable = true)\n",
      " |-- state: string (nullable = true)\n",
      " |-- lat: double (nullable = true)\n",
      " |-- long: double (nullable = true)\n",
      " |-- city_pop: integer (nullable = true)\n",
      " |-- job: string (nullable = true)\n",
      " |-- dob: date (nullable = true)\n",
      " |-- trans_num: string (nullable = true)\n",
      " |-- merch_lat: double (nullable = true)\n",
      " |-- merch_long: double (nullable = true)\n",
      " |-- is_fraud: integer (nullable = true)\n",
      "\n",
      "+---------------------+--------------------+--------------+-------+--------+-----+-------+---------+--------+--------------------+----------+--------------------+---------+-----------+--------+\n",
      "|trans_date_trans_time|            merchant|      category|    amt|    city|state|    lat|     long|city_pop|                 job|       dob|           trans_num|merch_lat| merch_long|is_fraud|\n",
      "+---------------------+--------------------+--------------+-------+--------+-----+-------+---------+--------+--------------------+----------+--------------------+---------+-----------+--------+\n",
      "|  2019-01-04 00:58:00|Stokes, Christian...|   grocery_net|  14.37|   Wales|   AK|64.7556|-165.6723|     145|Administrator, ed...|1939-11-09|a3806e984cec6ac00...|65.654142|-164.722603|       1|\n",
      "|  2019-01-04 15:06:00|        Predovic Inc|  shopping_net| 966.11|   Wales|   AK|64.7556|-165.6723|     145|Administrator, ed...|1939-11-09|a59185fe1b9ccf213...|65.468863|-165.473127|       1|\n",
      "|  2019-01-04 22:37:00|     Wisozk and Sons|      misc_pos|  49.61|   Wales|   AK|64.7556|-165.6723|     145|Administrator, ed...|1939-11-09|86ba3a888b42cd392...|65.347667|-165.914542|       1|\n",
      "|  2019-01-04 23:06:00|      Murray-Smitham|   grocery_pos| 295.26|   Wales|   AK|64.7556|-165.6723|     145|Administrator, ed...|1939-11-09|3a068fe1d856f0ece...|64.445035|-166.080207|       1|\n",
      "|  2019-01-04 23:59:00|          Friesen Lt|health_fitness|  18.17|   Wales|   AK|64.7556|-165.6723|     145|Administrator, ed...|1939-11-09|891cdd1191028759d...|65.447094|-165.446843|       1|\n",
      "|  2019-01-05 03:15:00|Raynor, Reinger a...| gas_transport|  20.45|   Wales|   AK|64.7556|-165.6723|     145|Administrator, ed...|1939-11-09|ef010a5f4f570d306...|64.088838|-165.104078|       1|\n",
      "|  2019-01-05 03:21:00|      Heller-Langosh| gas_transport|  18.19|   Wales|   AK|64.7556|-165.6723|     145|Administrator, ed...|1939-11-09|8e2d2fae5319d31c8...|63.917785|-165.827621|       1|\n",
      "|  2019-01-05 11:31:00|       Padberg-Welch|   grocery_pos| 367.29|Browning|   MO| 40.029| -93.1607|     602|      Cytogeneticist|1954-07-14|5fbe827807ec9f557...|39.167065| -93.705245|       1|\n",
      "|  2019-01-05 18:03:00|   McGlynn-Heathcote|      misc_net| 768.15|   Wales|   AK|64.7556|-165.6723|     145|Administrator, ed...|1939-11-09|fba83e0a3adb53025...|64.623325|-166.403973|       1|\n",
      "|  2019-01-05 22:02:00|     Dooley-Thompson|      misc_net| 849.49|   Wales|   AK|64.7556|-165.6723|     145|Administrator, ed...|1939-11-09|b87c92d4824758e70...|65.266065|-164.865352|       1|\n",
      "|  2019-01-05 22:05:00|Gottlieb, Considi...|  shopping_net|1177.79|Browning|   MO| 40.029| -93.1607|     602|      Cytogeneticist|1954-07-14|f1c51701d8b5dd6eb...|39.288305| -92.476947|       1|\n",
      "|  2019-01-05 22:12:00|Moen, Reinger and...|   grocery_pos| 307.09|   Wales|   AK|64.7556|-165.6723|     145|Administrator, ed...|1939-11-09|755e4e8350ec4a3e9...|64.909145|-164.712087|       1|\n",
      "|  2019-01-05 22:18:00|Hauck, Dietrich a...|     kids_pets|   4.58|   Wales|   AK|64.7556|-165.6723|     145|Administrator, ed...|1939-11-09|8fa7880cf01e6adc9...|65.052892|-166.067029|       1|\n",
      "|  2019-01-05 22:32:00|         Pouros-Haag|  shopping_pos| 730.78|   Wales|   AK|64.7556|-165.6723|     145|Administrator, ed...|1939-11-09|2396a5b8e277a4ce1...|65.233866|-166.550779|       1|\n",
      "|  2019-01-05 22:33:00|         Goyette Inc|  shopping_net|1006.40|   Wales|   AK|64.7556|-165.6723|     145|Administrator, ed...|1939-11-09|4d7e567247b6c4529...|65.220316|-165.005725|       1|\n",
      "|  2019-01-05 22:38:00|Baumbach, Strosin...|  shopping_pos| 830.72|   Wales|   AK|64.7556|-165.6723|     145|Administrator, ed...|1939-11-09|773a3305db095657e...|65.710538|-165.986117|       1|\n",
      "|  2019-01-05 23:17:00|    Pacocha-O'Reilly|   grocery_pos| 311.92|   Wales|   AK|64.7556|-165.6723|     145|Administrator, ed...|1939-11-09|191b3dcec7a6a4943...| 64.79501|-165.670735|       1|\n",
      "|  2019-01-05 23:26:00|         Barrows PLC|  shopping_pos| 762.93|Browning|   MO| 40.029| -93.1607|     602|      Cytogeneticist|1954-07-14|19b126ecf4c79997e...|40.205262| -93.499211|       1|\n",
      "|  2019-01-06 18:39:00|    Fisher-Schowalte|  shopping_net| 855.88|Browning|   MO| 40.029| -93.1607|     602|      Cytogeneticist|1954-07-14|bbae703c3794b7738...|40.786018| -93.301092|       1|\n",
      "|  2019-01-06 23:33:00|  Gleason-Macejkovic|  shopping_net| 909.29|Browning|   MO| 40.029| -93.1607|     602|      Cytogeneticist|1954-07-14|b98eb7183ee8a48e8...|40.977312|  -93.55098|       1|\n",
      "+---------------------+--------------------+--------------+-------+--------+-----+-------+---------+--------+--------------------+----------+--------------------+---------+-----------+--------+\n",
      "only showing top 20 rows\n",
      "\n"
     ]
    }
   ],
   "source": [
    "# Change schema for trans_date_trans_time & dob. Remove '\" \"' from merchant and job\n",
    "\n",
    "def transform_data(df):\n",
    "    # Update the DataFrame\n",
    "    df_dedup = df.dropDuplicates()\n",
    "    \n",
    "    fix_fraud_df = df_dedup.withColumn(\"is_fraud\", when(length(col(\"is_fraud\")) > 2, concat(substring(col(\"is_fraud\"), 1, 1))).otherwise(col(\"is_fraud\")))\n",
    "    change_class_df = fix_fraud_df.withColumn(\"is_fraud\", when(col(\"is_fraud\") == '1', \"fraud\").otherwise(\"not fraud\"))\n",
    "    # Transform the df \n",
    "    transform_df = change_class_df.withColumn(\"trans_date_trans_time\", to_timestamp(col(\"trans_date_trans_time\"), \"dd-MM-yyyy HH:mm\")) \\\n",
    "                     .withColumn(\"dob\", to_date(col(\"dob\"), \"dd-MM-yyyy\")) \\\n",
    "                     .withColumn(\"merchant\", regexp_replace(col(\"merchant\"), '\"\"|\\\"', '')) \\\n",
    "                     .withColumn(\"job\", regexp_replace(col(\"job\"), '\"\"|\\\"', ''))\n",
    "                    \n",
    "    return transform_df\n",
    "\n",
    "transform_df = transform_data(df)\n",
    "transform_df.printSchema()\n",
    "transform_df.show()\n",
    "transform_df.count()"
   ]
  },
  {
   "cell_type": "code",
   "execution_count": null,
   "id": "3e14bf4a-e30f-405d-8350-ad1ce245c33e",
   "metadata": {},
   "outputs": [],
   "source": [
    "transform_df.write.parquet(\"api_dataset/cc_transactions_detail.parquet\", mode='overwrite', compression=\"gzip\")"
   ]
  }
 ],
 "metadata": {
  "kernelspec": {
   "display_name": "Python 3 (ipykernel)",
   "language": "python",
   "name": "python3"
  },
  "language_info": {
   "codemirror_mode": {
    "name": "ipython",
    "version": 3
   },
   "file_extension": ".py",
   "mimetype": "text/x-python",
   "name": "python",
   "nbconvert_exporter": "python",
   "pygments_lexer": "ipython3",
   "version": "3.11.6"
  }
 },
 "nbformat": 4,
 "nbformat_minor": 5
}
